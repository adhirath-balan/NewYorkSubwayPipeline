{
 "cells": [
  {
   "cell_type": "code",
   "execution_count": 27,
   "metadata": {},
   "outputs": [
    {
     "data": {
      "text/plain": [
       "145"
      ]
     },
     "execution_count": 27,
     "metadata": {},
     "output_type": "execute_result"
    }
   ],
   "source": [
    "from nyct_gtfs import NYCTFeed\n",
    "feed = NYCTFeed(\"B\")\n",
    "\n",
    "# Read all trip (train) information published to the BDFM feed \n",
    "trains = feed.trips\n",
    "\n",
    "len(trains)"
   ]
  },
  {
   "cell_type": "code",
   "execution_count": 28,
   "metadata": {},
   "outputs": [
    {
     "data": {
      "text/plain": [
       "[{\"032600_B..S65X003\", STOPPED_AT D35S @11:59:42},\n",
       " {\"033400_B..S65X003\", STOPPED_AT D35S @12:00:47},\n",
       " {\"034500_B..S65X003\", STOPPED_AT D28S @12:00:42},\n",
       " {\"034600_B..N65X003\", STOPPED_AT D12N @12:00:42},\n",
       " {\"035500_B..S65X003\", STOPPED_AT D24S @12:00:42},\n",
       " {\"035600_B..N65X003\", STOPPED_AT A14N @12:00:47},\n",
       " {\"036600_B..S65X003\", STOPPED_AT D22S @11:55:27},\n",
       " {\"036600_B..N65X003\", STOPPED_AT A24N @12:00:47},\n",
       " {\"037500_B..S65X003\", STOPPED_AT D20S @12:00:02},\n",
       " {\"038100_B..N65X003\", STOPPED_AT R30N @11:56:07},\n",
       " {\"039200_B..N65X003\", STOPPED_AT D27N @12:00:47},\n",
       " {\"038500_B..S65X003\", STOPPED_AT A24S @12:00:32},\n",
       " {\"039500_B..S65X003\", STOPPED_AT A16S @12:00:12},\n",
       " {\"040000_B..N65X003\", STOPPED_AT D30N @12:00:47},\n",
       " {\"040500_B..S65X003\", STOPPED_AT D12S @12:00:42},\n",
       " {\"040800_B..N65X003\", STOPPED_AT D31N @12:00:47},\n",
       " {\"042300_B..N65X003\", },\n",
       " {\"041500_B..S65X003\", STOPPED_AT D06S @12:00:47},\n",
       " {\"042500_B..S65X003\", },\n",
       " {\"043000_B..N65X003\", },\n",
       " {\"043400_B..S65X003\", },\n",
       " {\"043700_B..N65X003\", },\n",
       " {\"044400_B..S65X003\", },\n",
       " {\"045050_B..N65X003\", },\n",
       " {\"044450_B..N65X003\", },\n",
       " {\"045350_B..S65X003\", },\n",
       " {\"045700_B..N65X003\", },\n",
       " {\"046300_B..N60X002\", },\n",
       " {\"046350_B..S65X003\", },\n",
       " {\"046900_B..N60X002\", },\n",
       " {\"047850_B..S65X003\", },\n",
       " {\"047500_B..N65X003\", },\n",
       " {\"033350_D..N05R\", STOPPED_AT D09N @12:00:47},\n",
       " {\"032050_D..S05R\", STOPPED_AT B23S @12:00:47},\n",
       " {\"034800_D..N07R\", STOPPED_AT D13N @12:00:47},\n",
       " {\"033950_D..S05R\", STOPPED_AT R36S @11:59:17},\n",
       " {\"035250_D..S05R\", STOPPED_AT R32S @12:00:47},\n",
       " {\"036000_D..N07R\", STOPPED_AT A24N @11:59:37},\n",
       " {\"036100_D..S05R\", STOPPED_AT R30S @12:00:47},\n",
       " {\"037000_D..N07R\", STOPPED_AT D20N @12:00:47},\n",
       " {\"038000_D..N07R\", STOPPED_AT R31N @11:57:12},\n",
       " {\"038000_D..S14R\", STOPPED_AT D22S @12:00:47},\n",
       " {\"038700_D..S14R\", STOPPED_AT D17S @11:59:32},\n",
       " {\"038800_D..N07R\", STOPPED_AT R31N @12:00:47},\n",
       " {\"039850_D..S14R\", STOPPED_AT A15S @11:55:17},\n",
       " {\"040150_D..N07R\", STOPPED_AT B13N @12:00:45},\n",
       " {\"040300_D..S14R\", STOPPED_AT D13S @12:00:07},\n",
       " {\"041350_D..S14R\", STOPPED_AT D05S @12:00:47},\n",
       " {\"041150_D..N07R\", STOPPED_AT B19N @12:00:47},\n",
       " {\"041850_D..S14R\", STOPPED_AT D03S @11:59:53},\n",
       " {\"041750_D..N07R\", STOPPED_AT D43N @11:58:22},\n",
       " {\"042500_D..S14R\", },\n",
       " {\"042600_D..N07R\", },\n",
       " {\"043250_D..S14R\", },\n",
       " {\"043200_D..N07R\", },\n",
       " {\"044200_D..S14R\", },\n",
       " {\"043850_D..N07R\", },\n",
       " {\"044250_D..N07X069\", },\n",
       " {\"045300_D..S14R\", },\n",
       " {\"045050_D..N07R\", },\n",
       " {\"045450_D..N07X069\", },\n",
       " {\"046300_D..S14R\", },\n",
       " {\"046350_D..N07R\", },\n",
       " {\"047050_D..S14R\", },\n",
       " {\"046950_D..N07R\", },\n",
       " {\"047650_D..S14R\", },\n",
       " {\"047550_D..N07X069\", },\n",
       " {\"033383_F..S69R\", STOPPED_AT F33S @12:00:47},\n",
       " {\"034200_F..N69R\", STOPPED_AT F05N @12:00:47},\n",
       " {\"034950_F..S69R\", STOPPED_AT F26S @12:00:47},\n",
       " {\"035200_F..N69R\", STOPPED_AT G14N @11:58:42},\n",
       " {\"035500_F..S69R\", STOPPED_AT F23S @12:00:47},\n",
       " {\"036100_F..S69R\", STOPPED_AT F21S @12:00:47},\n",
       " {\"036250_F..N69R\", STOPPED_AT B08N @12:00:47},\n",
       " {\"036700_F..S69R\", STOPPED_AT F20S @12:00:47},\n",
       " {\"037200_F..N69R\", STOPPED_AT D18N @12:00:42},\n",
       " {\"037450_F..S69R\", STOPPED_AT F15S @12:00:42},\n",
       " {\"038100_F..S69R\", STOPPED_AT D20S @12:00:47},\n",
       " {\"038300_F..N69R\", STOPPED_AT A41N @12:00:47},\n",
       " {\"038300_F..N75R\", STOPPED_AT F18N @12:00:47},\n",
       " {\"038700_F..S04R\", STOPPED_AT D15S @12:00:47},\n",
       " {\"039300_F..S69R\", STOPPED_AT G14S @11:58:07},\n",
       " {\"039500_F..N75R\", STOPPED_AT F21N @12:00:47},\n",
       " {\"039800_F..S68R\", STOPPED_AT G14S @11:59:37},\n",
       " {\"039733_F..N69R\", STOPPED_AT F25N @12:00:47},\n",
       " {\"040800_F..N75R\", STOPPED_AT F29N @12:00:47},\n",
       " {\"040350_F..S69R\", STOPPED_AT G14S @12:00:47},\n",
       " {\"040900_F..S68R\", STOPPED_AT F07S @12:00:47},\n",
       " {\"041166_F..N69R\", STOPPED_AT F34N @12:00:47},\n",
       " {\"041800_F..S68R\", STOPPED_AT F02S @12:00:47},\n",
       " {\"041950_F..N75R\", STOPPED_AT F38N @11:59:30},\n",
       " {\"042200_F..S69R\", IN_TRANSIT_TO F01S @12:02:00},\n",
       " {\"041350_F..S69R\", STOPPED_AT F05S @12:00:47},\n",
       " {\"042600_F..N72R\", },\n",
       " {\"042600_F..S68R\", },\n",
       " {\"042850_F..N75R\", },\n",
       " {\"043000_F..S69R\", },\n",
       " {\"043400_F..S69R\", },\n",
       " {\"043600_F..N75R\", },\n",
       " {\"043750_F..S68R\", },\n",
       " {\"043650_F..N69R\", },\n",
       " {\"044250_F..N69R\", },\n",
       " {\"044350_F..S69R\", },\n",
       " {\"044750_F..N72R\", },\n",
       " {\"044950_F..S68R\", },\n",
       " {\"045350_F..S69R\", },\n",
       " {\"045400_F..N69R\", },\n",
       " {\"045650_F..N75R\", },\n",
       " {\"045750_F..S69R\", },\n",
       " {\"046150_F..S68R\", },\n",
       " {\"046250_F..N69R\", },\n",
       " {\"046550_F..S69R\", },\n",
       " {\"046900_F..N69R\", },\n",
       " {\"046950_F..S68R\", },\n",
       " {\"047350_F..S69R\", },\n",
       " {\"047750_F..S68R\", },\n",
       " {\"047550_F..N69R\", },\n",
       " {\"048000_F..N04R\", },\n",
       " {\"036300_M..N20R\", STOPPED_AT G14N @12:00:47},\n",
       " {\"036350_M..S20R\", STOPPED_AT M10S @12:00:32},\n",
       " {\"037450_M..S20R\", STOPPED_AT M14S @12:00:47},\n",
       " {\"037500_M..N20R\", STOPPED_AT F09N @12:00:47},\n",
       " {\"038400_M..N20R\", STOPPED_AT D19N @12:00:47},\n",
       " {\"038550_M..S20R\", STOPPED_AT D18S @12:00:45},\n",
       " {\"039450_M..N20R\", STOPPED_AT M18N @12:00:07},\n",
       " {\"039550_M..S20R\", STOPPED_AT G21S @12:00:47},\n",
       " {\"040450_M..N20R\", STOPPED_AT M13N @12:00:47},\n",
       " {\"040500_M..S20R\", STOPPED_AT G16S @12:00:47},\n",
       " {\"041450_M..N20R\", STOPPED_AT M08N @12:00:47},\n",
       " {\"041550_M..S20R\", STOPPED_AT G12S @12:00:47},\n",
       " {\"042350_M..S20R\", },\n",
       " {\"042350_M..N20R\", },\n",
       " {\"043050_M..S20R\", },\n",
       " {\"043300_M..N20R\", },\n",
       " {\"043800_M..S20R\", },\n",
       " {\"044300_M..N20R\", },\n",
       " {\"044550_M..S20R\", },\n",
       " {\"045150_M..N20R\", },\n",
       " {\"045500_M..S20R\", },\n",
       " {\"046100_M..N20R\", },\n",
       " {\"046450_M..S20R\", },\n",
       " {\"046800_M..N20R\", },\n",
       " {\"047250_M..S20R\", },\n",
       " {\"047600_M..N20R\", },\n",
       " {\"048050_M..S20R\", }]"
      ]
     },
     "execution_count": 28,
     "metadata": {},
     "output_type": "execute_result"
    }
   ],
   "source": [
    "trains"
   ]
  },
  {
   "cell_type": "code",
   "execution_count": 33,
   "metadata": {},
   "outputs": [
    {
     "data": {
      "text/plain": [
       "[{\"033350_D..N05R\", STOPPED_AT D09N @12:00:47},\n",
       " {\"032050_D..S05R\", STOPPED_AT B23S @12:00:47},\n",
       " {\"034800_D..N07R\", STOPPED_AT D13N @12:00:47},\n",
       " {\"033950_D..S05R\", STOPPED_AT R36S @11:59:17},\n",
       " {\"035250_D..S05R\", STOPPED_AT R32S @12:00:47},\n",
       " {\"036000_D..N07R\", STOPPED_AT A24N @11:59:37},\n",
       " {\"036100_D..S05R\", STOPPED_AT R30S @12:00:47},\n",
       " {\"037000_D..N07R\", STOPPED_AT D20N @12:00:47},\n",
       " {\"038000_D..N07R\", STOPPED_AT R31N @11:57:12},\n",
       " {\"038000_D..S14R\", STOPPED_AT D22S @12:00:47},\n",
       " {\"038700_D..S14R\", STOPPED_AT D17S @11:59:32},\n",
       " {\"038800_D..N07R\", STOPPED_AT R31N @12:00:47},\n",
       " {\"039850_D..S14R\", STOPPED_AT A15S @11:55:17},\n",
       " {\"040150_D..N07R\", STOPPED_AT B13N @12:00:45},\n",
       " {\"040300_D..S14R\", STOPPED_AT D13S @12:00:07},\n",
       " {\"041350_D..S14R\", STOPPED_AT D05S @12:00:47},\n",
       " {\"041150_D..N07R\", STOPPED_AT B19N @12:00:47},\n",
       " {\"041850_D..S14R\", STOPPED_AT D03S @11:59:53},\n",
       " {\"041750_D..N07R\", STOPPED_AT D43N @11:58:22},\n",
       " {\"042500_D..S14R\", },\n",
       " {\"042600_D..N07R\", },\n",
       " {\"043250_D..S14R\", },\n",
       " {\"043200_D..N07R\", },\n",
       " {\"044200_D..S14R\", },\n",
       " {\"043850_D..N07R\", },\n",
       " {\"044250_D..N07X069\", },\n",
       " {\"045300_D..S14R\", },\n",
       " {\"045050_D..N07R\", },\n",
       " {\"045450_D..N07X069\", },\n",
       " {\"046300_D..S14R\", },\n",
       " {\"046350_D..N07R\", },\n",
       " {\"047050_D..S14R\", },\n",
       " {\"046950_D..N07R\", },\n",
       " {\"047650_D..S14R\", },\n",
       " {\"047550_D..N07X069\", }]"
      ]
     },
     "execution_count": 33,
     "metadata": {},
     "output_type": "execute_result"
    }
   ],
   "source": [
    "feed.filter_trips(line_id=\"D\")"
   ]
  },
  {
   "cell_type": "code",
   "execution_count": 36,
   "metadata": {},
   "outputs": [
    {
     "name": "stdout",
     "output_type": "stream",
     "text": [
      "N\n"
     ]
    }
   ],
   "source": [
    "from nyct_gtfs import NYCTFeed\n",
    "feed = NYCTFeed(\"A\")\n",
    "\n",
    "# Pick a train to get details from\n",
    "train = feed.trips[0]\n",
    "print(train.direction)"
   ]
  },
  {
   "cell_type": "code",
   "execution_count": 37,
   "metadata": {},
   "outputs": [
    {
     "name": "stdout",
     "output_type": "stream",
     "text": [
      "N\n"
     ]
    }
   ],
   "source": [
    "# To pull new data, use the refresh() method\n",
    "feed.refresh()\n",
    "\n",
    "# You must also update references to the trains list, existing objects are not modified by refresh()\n",
    "train = feed.trips[0]\n",
    "\n",
    "# Note that feed.trips does not necessarily have a stable index across refresh() calls, i.e it is \n",
    "# possible for feed.trips[0] to have changed to represent a different train as a result of the refresh() operation:\n",
    "print(train.direction)"
   ]
  },
  {
   "cell_type": "code",
   "execution_count": 38,
   "metadata": {},
   "outputs": [
    {
     "data": {
      "text/plain": [
       "'Northbound N to Astoria-Ditmars Blvd, departed origin 06:13:30, Currently STOPPED_AT Queensboro Plaza, last update at 12:39:47'"
      ]
     },
     "execution_count": 38,
     "metadata": {},
     "output_type": "execute_result"
    }
   ],
   "source": [
    "from nyct_gtfs import NYCTFeed\n",
    "feed = NYCTFeed(\"N\")\n",
    "\n",
    "# Read the first train from the feed\n",
    "train = feed.trips[0]\n",
    "\n",
    "# Get human-readable summary of the train's status\n",
    "str(train)"
   ]
  },
  {
   "cell_type": "code",
   "execution_count": 52,
   "metadata": {},
   "outputs": [
    {
     "data": {
      "text/plain": [
       "29"
      ]
     },
     "execution_count": 52,
     "metadata": {},
     "output_type": "execute_result"
    }
   ],
   "source": [
    "train.current_stop_sequence_index"
   ]
  },
  {
   "cell_type": "code",
   "execution_count": 48,
   "metadata": {},
   "outputs": [
    {
     "data": {
      "text/plain": [
       "['__class__',\n",
       " '__delattr__',\n",
       " '__dict__',\n",
       " '__dir__',\n",
       " '__doc__',\n",
       " '__eq__',\n",
       " '__format__',\n",
       " '__ge__',\n",
       " '__getattribute__',\n",
       " '__getstate__',\n",
       " '__gt__',\n",
       " '__hash__',\n",
       " '__init__',\n",
       " '__init_subclass__',\n",
       " '__le__',\n",
       " '__lt__',\n",
       " '__module__',\n",
       " '__ne__',\n",
       " '__new__',\n",
       " '__reduce__',\n",
       " '__reduce_ex__',\n",
       " '__repr__',\n",
       " '__setattr__',\n",
       " '__sizeof__',\n",
       " '__str__',\n",
       " '__subclasshook__',\n",
       " '__weakref__',\n",
       " '_applicable_alerts',\n",
       " '_feed_datetime',\n",
       " '_stops',\n",
       " '_trip_shapes',\n",
       " '_trip_update',\n",
       " '_vehicle_update',\n",
       " 'current_stop_sequence_index',\n",
       " 'departure_time',\n",
       " 'direction',\n",
       " 'has_delay_alert',\n",
       " 'headed_to_stop',\n",
       " 'headsign_text',\n",
       " 'last_position_update',\n",
       " 'location',\n",
       " 'location_status',\n",
       " 'nyc_train_id',\n",
       " 'route_id',\n",
       " 'shape_id',\n",
       " 'start_date',\n",
       " 'stop_time_updates',\n",
       " 'train_assigned',\n",
       " 'trip_id',\n",
       " 'underway']"
      ]
     },
     "execution_count": 48,
     "metadata": {},
     "output_type": "execute_result"
    }
   ],
   "source": [
    "dir(train)"
   ]
  },
  {
   "cell_type": "code",
   "execution_count": 39,
   "metadata": {},
   "outputs": [
    {
     "data": {
      "text/plain": [
       "'N'"
      ]
     },
     "execution_count": 39,
     "metadata": {},
     "output_type": "execute_result"
    }
   ],
   "source": [
    "train.direction"
   ]
  },
  {
   "cell_type": "code",
   "execution_count": 41,
   "metadata": {},
   "outputs": [
    {
     "data": {
      "text/plain": [
       "'N'"
      ]
     },
     "execution_count": 41,
     "metadata": {},
     "output_type": "execute_result"
    }
   ],
   "source": [
    "train.route_id"
   ]
  },
  {
   "cell_type": "code",
   "execution_count": 42,
   "metadata": {},
   "outputs": [
    {
     "data": {
      "text/plain": [
       "'Astoria-Ditmars Blvd'"
      ]
     },
     "execution_count": 42,
     "metadata": {},
     "output_type": "execute_result"
    }
   ],
   "source": [
    "train.headsign_text"
   ]
  },
  {
   "cell_type": "code",
   "execution_count": 43,
   "metadata": {},
   "outputs": [
    {
     "data": {
      "text/plain": [
       "datetime.datetime(2024, 10, 30, 6, 13, 30)"
      ]
     },
     "execution_count": 43,
     "metadata": {},
     "output_type": "execute_result"
    }
   ],
   "source": [
    "train.departure_time"
   ]
  },
  {
   "cell_type": "code",
   "execution_count": 44,
   "metadata": {},
   "outputs": [
    {
     "data": {
      "text/plain": [
       "'R09N'"
      ]
     },
     "execution_count": 44,
     "metadata": {},
     "output_type": "execute_result"
    }
   ],
   "source": [
    "train.location"
   ]
  },
  {
   "cell_type": "code",
   "execution_count": 45,
   "metadata": {},
   "outputs": [
    {
     "data": {
      "text/plain": [
       "'STOPPED_AT'"
      ]
     },
     "execution_count": 45,
     "metadata": {},
     "output_type": "execute_result"
    }
   ],
   "source": [
    "train.location_status"
   ]
  },
  {
   "cell_type": "code",
   "execution_count": 47,
   "metadata": {},
   "outputs": [
    {
     "data": {
      "text/plain": [
       "datetime.datetime(2024, 10, 30, 12, 39, 47)"
      ]
     },
     "execution_count": 47,
     "metadata": {},
     "output_type": "execute_result"
    }
   ],
   "source": [
    "train.last_position_update"
   ]
  },
  {
   "cell_type": "code",
   "execution_count": 1,
   "metadata": {},
   "outputs": [],
   "source": [
    "from google.cloud import storage"
   ]
  },
  {
   "cell_type": "code",
   "execution_count": 6,
   "metadata": {},
   "outputs": [],
   "source": [
    "from google.oauth2 import service_account\n",
    "from google.cloud import storage\n",
    "\n",
    "# Load credentials from the JSON key file\n",
    "credentials = service_account.Credentials.from_service_account_file(\"D:\\\\SRH\\\\DM-2\\\\Project\\\\creds\\\\cred.json\")\n",
    "\n",
    "# Initialize the client with the new credentials\n",
    "client = storage.Client(credentials=credentials)"
   ]
  },
  {
   "cell_type": "code",
   "execution_count": 7,
   "metadata": {},
   "outputs": [],
   "source": [
    "for bucket in client.list_buckets():\n",
    "    print(bucket.name)"
   ]
  },
  {
   "cell_type": "code",
   "execution_count": 1,
   "metadata": {},
   "outputs": [],
   "source": [
    "from google.cloud import dataproc_v1 as dataproc"
   ]
  },
  {
   "cell_type": "code",
   "execution_count": 1,
   "metadata": {},
   "outputs": [],
   "source": [
    "from google.cloud import dataproc_v1\n",
    "\n",
    "def sample_list_clusters():\n",
    "    # Create a client\n",
    "    client = dataproc_v1.ClusterControllerClient()\n",
    "\n",
    "    # Initialize request argument(s)\n",
    "    request = dataproc_v1.ListClustersRequest(\n",
    "        project_id=\"adb-dm2\",\n",
    "        region=\"us-central1\",\n",
    "    )\n",
    "\n",
    "    # Make the request\n",
    "    page_result = client.list_clusters(request=request)\n",
    "\n",
    "    # Handle the response\n",
    "    for response in page_result:\n",
    "        print(response)\n"
   ]
  },
  {
   "cell_type": "code",
   "execution_count": null,
   "metadata": {},
   "outputs": [
    {
     "ename": "KeyboardInterrupt",
     "evalue": "",
     "output_type": "error",
     "traceback": [
      "\u001b[1;31m---------------------------------------------------------------------------\u001b[0m",
      "\u001b[1;31m_InactiveRpcError\u001b[0m                         Traceback (most recent call last)",
      "File \u001b[1;32md:\\SRH\\DM-2\\Project\\.env\\Lib\\site-packages\\google\\api_core\\grpc_helpers.py:76\u001b[0m, in \u001b[0;36m_wrap_unary_errors.<locals>.error_remapped_callable\u001b[1;34m(*args, **kwargs)\u001b[0m\n\u001b[0;32m     75\u001b[0m \u001b[38;5;28;01mtry\u001b[39;00m:\n\u001b[1;32m---> 76\u001b[0m     \u001b[38;5;28;01mreturn\u001b[39;00m \u001b[43mcallable_\u001b[49m\u001b[43m(\u001b[49m\u001b[38;5;241;43m*\u001b[39;49m\u001b[43margs\u001b[49m\u001b[43m,\u001b[49m\u001b[43m \u001b[49m\u001b[38;5;241;43m*\u001b[39;49m\u001b[38;5;241;43m*\u001b[39;49m\u001b[43mkwargs\u001b[49m\u001b[43m)\u001b[49m\n\u001b[0;32m     77\u001b[0m \u001b[38;5;28;01mexcept\u001b[39;00m grpc\u001b[38;5;241m.\u001b[39mRpcError \u001b[38;5;28;01mas\u001b[39;00m exc:\n",
      "File \u001b[1;32md:\\SRH\\DM-2\\Project\\.env\\Lib\\site-packages\\grpc\\_channel.py:1181\u001b[0m, in \u001b[0;36m_UnaryUnaryMultiCallable.__call__\u001b[1;34m(self, request, timeout, metadata, credentials, wait_for_ready, compression)\u001b[0m\n\u001b[0;32m   1175\u001b[0m (\n\u001b[0;32m   1176\u001b[0m     state,\n\u001b[0;32m   1177\u001b[0m     call,\n\u001b[0;32m   1178\u001b[0m ) \u001b[38;5;241m=\u001b[39m \u001b[38;5;28mself\u001b[39m\u001b[38;5;241m.\u001b[39m_blocking(\n\u001b[0;32m   1179\u001b[0m     request, timeout, metadata, credentials, wait_for_ready, compression\n\u001b[0;32m   1180\u001b[0m )\n\u001b[1;32m-> 1181\u001b[0m \u001b[38;5;28;01mreturn\u001b[39;00m \u001b[43m_end_unary_response_blocking\u001b[49m\u001b[43m(\u001b[49m\u001b[43mstate\u001b[49m\u001b[43m,\u001b[49m\u001b[43m \u001b[49m\u001b[43mcall\u001b[49m\u001b[43m,\u001b[49m\u001b[43m \u001b[49m\u001b[38;5;28;43;01mFalse\u001b[39;49;00m\u001b[43m,\u001b[49m\u001b[43m \u001b[49m\u001b[38;5;28;43;01mNone\u001b[39;49;00m\u001b[43m)\u001b[49m\n",
      "File \u001b[1;32md:\\SRH\\DM-2\\Project\\.env\\Lib\\site-packages\\grpc\\_channel.py:1006\u001b[0m, in \u001b[0;36m_end_unary_response_blocking\u001b[1;34m(state, call, with_call, deadline)\u001b[0m\n\u001b[0;32m   1005\u001b[0m \u001b[38;5;28;01melse\u001b[39;00m:\n\u001b[1;32m-> 1006\u001b[0m     \u001b[38;5;28;01mraise\u001b[39;00m _InactiveRpcError(state)\n",
      "\u001b[1;31m_InactiveRpcError\u001b[0m: <_InactiveRpcError of RPC that terminated with:\n\tstatus = StatusCode.UNAVAILABLE\n\tdetails = \"Getting metadata from plugin failed with error: ('invalid_grant: Account has been deleted', {'error': 'invalid_grant', 'error_description': 'Account has been deleted'})\"\n\tdebug_error_string = \"UNKNOWN:Error received from peer  {grpc_message:\"Getting metadata from plugin failed with error: (\\'invalid_grant: Account has been deleted\\', {\\'error\\': \\'invalid_grant\\', \\'error_description\\': \\'Account has been deleted\\'})\", grpc_status:14, created_time:\"2024-11-09T02:37:17.1679674+00:00\"}\"\n>",
      "\nThe above exception was the direct cause of the following exception:\n",
      "\u001b[1;31mServiceUnavailable\u001b[0m                        Traceback (most recent call last)",
      "File \u001b[1;32md:\\SRH\\DM-2\\Project\\.env\\Lib\\site-packages\\google\\api_core\\retry\\retry_unary.py:144\u001b[0m, in \u001b[0;36mretry_target\u001b[1;34m(target, predicate, sleep_generator, timeout, on_error, exception_factory, **kwargs)\u001b[0m\n\u001b[0;32m    143\u001b[0m \u001b[38;5;28;01mtry\u001b[39;00m:\n\u001b[1;32m--> 144\u001b[0m     result \u001b[38;5;241m=\u001b[39m \u001b[43mtarget\u001b[49m\u001b[43m(\u001b[49m\u001b[43m)\u001b[49m\n\u001b[0;32m    145\u001b[0m     \u001b[38;5;28;01mif\u001b[39;00m inspect\u001b[38;5;241m.\u001b[39misawaitable(result):\n",
      "File \u001b[1;32md:\\SRH\\DM-2\\Project\\.env\\Lib\\site-packages\\google\\api_core\\timeout.py:120\u001b[0m, in \u001b[0;36mTimeToDeadlineTimeout.__call__.<locals>.func_with_timeout\u001b[1;34m(*args, **kwargs)\u001b[0m\n\u001b[0;32m    118\u001b[0m     kwargs[\u001b[38;5;124m\"\u001b[39m\u001b[38;5;124mtimeout\u001b[39m\u001b[38;5;124m\"\u001b[39m] \u001b[38;5;241m=\u001b[39m \u001b[38;5;28mmax\u001b[39m(\u001b[38;5;241m0\u001b[39m, \u001b[38;5;28mself\u001b[39m\u001b[38;5;241m.\u001b[39m_timeout \u001b[38;5;241m-\u001b[39m time_since_first_attempt)\n\u001b[1;32m--> 120\u001b[0m \u001b[38;5;28;01mreturn\u001b[39;00m \u001b[43mfunc\u001b[49m\u001b[43m(\u001b[49m\u001b[38;5;241;43m*\u001b[39;49m\u001b[43margs\u001b[49m\u001b[43m,\u001b[49m\u001b[43m \u001b[49m\u001b[38;5;241;43m*\u001b[39;49m\u001b[38;5;241;43m*\u001b[39;49m\u001b[43mkwargs\u001b[49m\u001b[43m)\u001b[49m\n",
      "File \u001b[1;32md:\\SRH\\DM-2\\Project\\.env\\Lib\\site-packages\\google\\api_core\\grpc_helpers.py:78\u001b[0m, in \u001b[0;36m_wrap_unary_errors.<locals>.error_remapped_callable\u001b[1;34m(*args, **kwargs)\u001b[0m\n\u001b[0;32m     77\u001b[0m \u001b[38;5;28;01mexcept\u001b[39;00m grpc\u001b[38;5;241m.\u001b[39mRpcError \u001b[38;5;28;01mas\u001b[39;00m exc:\n\u001b[1;32m---> 78\u001b[0m     \u001b[38;5;28;01mraise\u001b[39;00m exceptions\u001b[38;5;241m.\u001b[39mfrom_grpc_error(exc) \u001b[38;5;28;01mfrom\u001b[39;00m \u001b[38;5;21;01mexc\u001b[39;00m\n",
      "\u001b[1;31mServiceUnavailable\u001b[0m: 503 Getting metadata from plugin failed with error: ('invalid_grant: Account has been deleted', {'error': 'invalid_grant', 'error_description': 'Account has been deleted'})",
      "\nDuring handling of the above exception, another exception occurred:\n",
      "\u001b[1;31mKeyboardInterrupt\u001b[0m                         Traceback (most recent call last)",
      "Cell \u001b[1;32mIn[4], line 1\u001b[0m\n\u001b[1;32m----> 1\u001b[0m \u001b[43msample_list_clusters\u001b[49m\u001b[43m(\u001b[49m\u001b[43m)\u001b[49m\n",
      "Cell \u001b[1;32mIn[1], line 14\u001b[0m, in \u001b[0;36msample_list_clusters\u001b[1;34m()\u001b[0m\n\u001b[0;32m      8\u001b[0m request \u001b[38;5;241m=\u001b[39m dataproc_v1\u001b[38;5;241m.\u001b[39mListClustersRequest(\n\u001b[0;32m      9\u001b[0m     project_id\u001b[38;5;241m=\u001b[39m\u001b[38;5;124m\"\u001b[39m\u001b[38;5;124madb-dm2\u001b[39m\u001b[38;5;124m\"\u001b[39m,\n\u001b[0;32m     10\u001b[0m     region\u001b[38;5;241m=\u001b[39m\u001b[38;5;124m\"\u001b[39m\u001b[38;5;124mus-central1\u001b[39m\u001b[38;5;124m\"\u001b[39m,\n\u001b[0;32m     11\u001b[0m )\n\u001b[0;32m     13\u001b[0m \u001b[38;5;66;03m# Make the request\u001b[39;00m\n\u001b[1;32m---> 14\u001b[0m page_result \u001b[38;5;241m=\u001b[39m \u001b[43mclient\u001b[49m\u001b[38;5;241;43m.\u001b[39;49m\u001b[43mlist_clusters\u001b[49m\u001b[43m(\u001b[49m\u001b[43mrequest\u001b[49m\u001b[38;5;241;43m=\u001b[39;49m\u001b[43mrequest\u001b[49m\u001b[43m)\u001b[49m\n\u001b[0;32m     16\u001b[0m \u001b[38;5;66;03m# Handle the response\u001b[39;00m\n\u001b[0;32m     17\u001b[0m \u001b[38;5;28;01mfor\u001b[39;00m response \u001b[38;5;129;01min\u001b[39;00m page_result:\n",
      "File \u001b[1;32md:\\SRH\\DM-2\\Project\\.env\\Lib\\site-packages\\google\\cloud\\dataproc_v1\\services\\cluster_controller\\client.py:1753\u001b[0m, in \u001b[0;36mClusterControllerClient.list_clusters\u001b[1;34m(self, request, project_id, region, filter, retry, timeout, metadata)\u001b[0m\n\u001b[0;32m   1750\u001b[0m \u001b[38;5;28mself\u001b[39m\u001b[38;5;241m.\u001b[39m_validate_universe_domain()\n\u001b[0;32m   1752\u001b[0m \u001b[38;5;66;03m# Send the request.\u001b[39;00m\n\u001b[1;32m-> 1753\u001b[0m response \u001b[38;5;241m=\u001b[39m \u001b[43mrpc\u001b[49m\u001b[43m(\u001b[49m\n\u001b[0;32m   1754\u001b[0m \u001b[43m    \u001b[49m\u001b[43mrequest\u001b[49m\u001b[43m,\u001b[49m\n\u001b[0;32m   1755\u001b[0m \u001b[43m    \u001b[49m\u001b[43mretry\u001b[49m\u001b[38;5;241;43m=\u001b[39;49m\u001b[43mretry\u001b[49m\u001b[43m,\u001b[49m\n\u001b[0;32m   1756\u001b[0m \u001b[43m    \u001b[49m\u001b[43mtimeout\u001b[49m\u001b[38;5;241;43m=\u001b[39;49m\u001b[43mtimeout\u001b[49m\u001b[43m,\u001b[49m\n\u001b[0;32m   1757\u001b[0m \u001b[43m    \u001b[49m\u001b[43mmetadata\u001b[49m\u001b[38;5;241;43m=\u001b[39;49m\u001b[43mmetadata\u001b[49m\u001b[43m,\u001b[49m\n\u001b[0;32m   1758\u001b[0m \u001b[43m\u001b[49m\u001b[43m)\u001b[49m\n\u001b[0;32m   1760\u001b[0m \u001b[38;5;66;03m# This method is paged; wrap the response in a pager, which provides\u001b[39;00m\n\u001b[0;32m   1761\u001b[0m \u001b[38;5;66;03m# an `__iter__` convenience method.\u001b[39;00m\n\u001b[0;32m   1762\u001b[0m response \u001b[38;5;241m=\u001b[39m pagers\u001b[38;5;241m.\u001b[39mListClustersPager(\n\u001b[0;32m   1763\u001b[0m     method\u001b[38;5;241m=\u001b[39mrpc,\n\u001b[0;32m   1764\u001b[0m     request\u001b[38;5;241m=\u001b[39mrequest,\n\u001b[1;32m   (...)\u001b[0m\n\u001b[0;32m   1768\u001b[0m     metadata\u001b[38;5;241m=\u001b[39mmetadata,\n\u001b[0;32m   1769\u001b[0m )\n",
      "File \u001b[1;32md:\\SRH\\DM-2\\Project\\.env\\Lib\\site-packages\\google\\api_core\\gapic_v1\\method.py:131\u001b[0m, in \u001b[0;36m_GapicCallable.__call__\u001b[1;34m(self, timeout, retry, compression, *args, **kwargs)\u001b[0m\n\u001b[0;32m    128\u001b[0m \u001b[38;5;28;01mif\u001b[39;00m \u001b[38;5;28mself\u001b[39m\u001b[38;5;241m.\u001b[39m_compression \u001b[38;5;129;01mis\u001b[39;00m \u001b[38;5;129;01mnot\u001b[39;00m \u001b[38;5;28;01mNone\u001b[39;00m:\n\u001b[0;32m    129\u001b[0m     kwargs[\u001b[38;5;124m\"\u001b[39m\u001b[38;5;124mcompression\u001b[39m\u001b[38;5;124m\"\u001b[39m] \u001b[38;5;241m=\u001b[39m compression\n\u001b[1;32m--> 131\u001b[0m \u001b[38;5;28;01mreturn\u001b[39;00m \u001b[43mwrapped_func\u001b[49m\u001b[43m(\u001b[49m\u001b[38;5;241;43m*\u001b[39;49m\u001b[43margs\u001b[49m\u001b[43m,\u001b[49m\u001b[43m \u001b[49m\u001b[38;5;241;43m*\u001b[39;49m\u001b[38;5;241;43m*\u001b[39;49m\u001b[43mkwargs\u001b[49m\u001b[43m)\u001b[49m\n",
      "File \u001b[1;32md:\\SRH\\DM-2\\Project\\.env\\Lib\\site-packages\\google\\api_core\\retry\\retry_unary.py:293\u001b[0m, in \u001b[0;36mRetry.__call__.<locals>.retry_wrapped_func\u001b[1;34m(*args, **kwargs)\u001b[0m\n\u001b[0;32m    289\u001b[0m target \u001b[38;5;241m=\u001b[39m functools\u001b[38;5;241m.\u001b[39mpartial(func, \u001b[38;5;241m*\u001b[39margs, \u001b[38;5;241m*\u001b[39m\u001b[38;5;241m*\u001b[39mkwargs)\n\u001b[0;32m    290\u001b[0m sleep_generator \u001b[38;5;241m=\u001b[39m exponential_sleep_generator(\n\u001b[0;32m    291\u001b[0m     \u001b[38;5;28mself\u001b[39m\u001b[38;5;241m.\u001b[39m_initial, \u001b[38;5;28mself\u001b[39m\u001b[38;5;241m.\u001b[39m_maximum, multiplier\u001b[38;5;241m=\u001b[39m\u001b[38;5;28mself\u001b[39m\u001b[38;5;241m.\u001b[39m_multiplier\n\u001b[0;32m    292\u001b[0m )\n\u001b[1;32m--> 293\u001b[0m \u001b[38;5;28;01mreturn\u001b[39;00m \u001b[43mretry_target\u001b[49m\u001b[43m(\u001b[49m\n\u001b[0;32m    294\u001b[0m \u001b[43m    \u001b[49m\u001b[43mtarget\u001b[49m\u001b[43m,\u001b[49m\n\u001b[0;32m    295\u001b[0m \u001b[43m    \u001b[49m\u001b[38;5;28;43mself\u001b[39;49m\u001b[38;5;241;43m.\u001b[39;49m\u001b[43m_predicate\u001b[49m\u001b[43m,\u001b[49m\n\u001b[0;32m    296\u001b[0m \u001b[43m    \u001b[49m\u001b[43msleep_generator\u001b[49m\u001b[43m,\u001b[49m\n\u001b[0;32m    297\u001b[0m \u001b[43m    \u001b[49m\u001b[43mtimeout\u001b[49m\u001b[38;5;241;43m=\u001b[39;49m\u001b[38;5;28;43mself\u001b[39;49m\u001b[38;5;241;43m.\u001b[39;49m\u001b[43m_timeout\u001b[49m\u001b[43m,\u001b[49m\n\u001b[0;32m    298\u001b[0m \u001b[43m    \u001b[49m\u001b[43mon_error\u001b[49m\u001b[38;5;241;43m=\u001b[39;49m\u001b[43mon_error\u001b[49m\u001b[43m,\u001b[49m\n\u001b[0;32m    299\u001b[0m \u001b[43m\u001b[49m\u001b[43m)\u001b[49m\n",
      "File \u001b[1;32md:\\SRH\\DM-2\\Project\\.env\\Lib\\site-packages\\google\\api_core\\retry\\retry_unary.py:164\u001b[0m, in \u001b[0;36mretry_target\u001b[1;34m(target, predicate, sleep_generator, timeout, on_error, exception_factory, **kwargs)\u001b[0m\n\u001b[0;32m    153\u001b[0m         _retry_error_helper(\n\u001b[0;32m    154\u001b[0m             exc,\n\u001b[0;32m    155\u001b[0m             deadline,\n\u001b[1;32m   (...)\u001b[0m\n\u001b[0;32m    161\u001b[0m             timeout,\n\u001b[0;32m    162\u001b[0m         )\n\u001b[0;32m    163\u001b[0m         \u001b[38;5;66;03m# if exception not raised, sleep before next attempt\u001b[39;00m\n\u001b[1;32m--> 164\u001b[0m         \u001b[43mtime\u001b[49m\u001b[38;5;241;43m.\u001b[39;49m\u001b[43msleep\u001b[49m\u001b[43m(\u001b[49m\u001b[43msleep\u001b[49m\u001b[43m)\u001b[49m\n\u001b[0;32m    166\u001b[0m \u001b[38;5;28;01mraise\u001b[39;00m \u001b[38;5;167;01mValueError\u001b[39;00m(\u001b[38;5;124m\"\u001b[39m\u001b[38;5;124mSleep generator stopped yielding sleep values.\u001b[39m\u001b[38;5;124m\"\u001b[39m)\n",
      "\u001b[1;31mKeyboardInterrupt\u001b[0m: "
     ]
    },
    {
     "ename": "",
     "evalue": "",
     "output_type": "error",
     "traceback": [
      "\u001b[1;31mThe Kernel crashed while executing code in the current cell or a previous cell. \n",
      "\u001b[1;31mPlease review the code in the cell(s) to identify a possible cause of the failure. \n",
      "\u001b[1;31mClick <a href='https://aka.ms/vscodeJupyterKernelCrash'>here</a> for more info. \n",
      "\u001b[1;31mView Jupyter <a href='command:jupyter.viewOutput'>log</a> for further details."
     ]
    }
   ],
   "source": [
    "sample_list_clusters()"
   ]
  },
  {
   "cell_type": "code",
   "execution_count": null,
   "metadata": {},
   "outputs": [],
   "source": []
  }
 ],
 "metadata": {
  "kernelspec": {
   "display_name": ".env",
   "language": "python",
   "name": "python3"
  },
  "language_info": {
   "codemirror_mode": {
    "name": "ipython",
    "version": 3
   },
   "file_extension": ".py",
   "mimetype": "text/x-python",
   "name": "python",
   "nbconvert_exporter": "python",
   "pygments_lexer": "ipython3",
   "version": "3.12.5"
  }
 },
 "nbformat": 4,
 "nbformat_minor": 2
}
